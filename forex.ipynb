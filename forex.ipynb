{
 "cells": [
  {
   "cell_type": "markdown",
   "id": "6bae6af0",
   "metadata": {},
   "source": [
    "Import the neccessary libraries"
   ]
  },
  {
   "cell_type": "code",
   "execution_count": 105,
   "id": "d059f4f7",
   "metadata": {},
   "outputs": [],
   "source": [
    "import pandas as pd\n",
    "import numpy as np\n",
    "import matplotlib.pyplot as plt\n",
    "from sklearn.model_selection import train_test_split\n",
    "from sklearn.linear_model import LinearRegression\n",
    "from sklearn.metrics import mean_squared_error,r2_score"
   ]
  },
  {
   "cell_type": "markdown",
   "id": "5aeeea3e",
   "metadata": {},
   "source": [
    "Data Loading"
   ]
  },
  {
   "cell_type": "code",
   "execution_count": 106,
   "id": "767b935e",
   "metadata": {},
   "outputs": [
    {
     "name": "stdout",
     "output_type": "stream",
     "text": [
      "Data loaded successfully!\n",
      "First 5 rows of the dataset\n",
      "         date     clock  open_eurusd  high_eurusd  low_eurusd  close_eurusd  tikvol_eurusd  open_audusd  high_audusd  low_audusd  close_audusd  tikvol_audusd  open_eurgbp  high_eurgbp  low_eurgbp  close_eurgbp  tikvol_eurgbp  open_gbpusd  high_gbpusd  low_gbpusd  close_gbpusd  tikvol_gbpusd  open_nzdusd  high_nzdusd  low_nzdusd  close_nzdusd  tikvol_nzdusd  open_usdchf  high_usdchf  low_usdchf  close_usdchf  tikvol_usdchf  open_usdjpy  high_usdjpy  low_usdjpy  close_usdjpy  tikvol_usdjpy\n",
      "0  2023.04.24  00:00:00      1.09883      1.09904     1.09861       1.09863            552      0.66947      0.66968     0.66906       0.66926            422      0.88273      0.88321     0.88257       0.88267            373      1.24412      1.24442     1.24361       1.24405            328      0.61382      0.61404     0.61346       0.61381            289      1.09883      1.09904     1.09861       1.09863            552      1.09883      1.09904     1.09861       1.09863            552\n",
      "1  2023.04.24  01:00:00      1.09868      1.09928     1.09862       1.09921            704      0.66932      0.66967     0.66885       0.66944            903      0.88273      0.88330     0.88273       0.88318           1164      1.24389      1.24460     1.24374       1.24448           1027      0.61381      0.61417     0.61341       0.61407            647      1.09868      1.09928     1.09862       1.09921            704      1.09868      1.09928     1.09862       1.09921            704\n",
      "2  2023.04.24  02:00:00      1.09921      1.09956     1.09906       1.09913            625      0.66945      0.66971     0.66903       0.66903            859      0.88319      0.88332     0.88286       0.88300           1008      1.24447      1.24519     1.24444       1.24468            830      0.61408      0.61453     0.61401       0.61409            589      1.09921      1.09956     1.09906       1.09913            625      1.09921      1.09956     1.09906       1.09913            625\n",
      "3  2023.04.24  03:00:00      1.09913      1.09945     1.09839       1.09943           1451      0.66902      0.66948     0.66817       0.66945           2023      0.88300      0.88370     0.88289       0.88320           2576      1.24467      1.24480     1.24375       1.24476           2814      0.61406      0.61443     0.61351       0.61436           1374      1.09913      1.09945     1.09839       1.09943           1451      1.09913      1.09945     1.09839       1.09943           1451\n",
      "4  2023.04.24  04:00:00      1.09944      1.09944     1.09864       1.09869           1713      0.66944      0.66948     0.66818       0.66827           2647      0.88321      0.88329     0.88286       0.88304           3061      1.24476      1.24500     1.24409       1.24414           3109      0.61435      0.61465     0.61382       0.61388           1701      1.09944      1.09944     1.09864       1.09869           1713      1.09944      1.09944     1.09864       1.09869           1713\n"
     ]
    }
   ],
   "source": [
    "try:\n",
    "    df = pd.read_csv(\"forex-1year.csv\")\n",
    "    print(\"Data loaded successfully!\")\n",
    "    print(\"First 5 rows of the dataset\")\n",
    "    print(df.head().to_string())\n",
    "except FileNotFoundError:\n",
    "    print(\"Error: The file 'forex-1year.csv' was not found. Please ensure it is in the same directory.\")\n",
    "    exit()"
   ]
  },
  {
   "cell_type": "markdown",
   "id": "c67d3339",
   "metadata": {},
   "source": [
    "Data Preprocessing and Feature Engineering"
   ]
  },
  {
   "cell_type": "code",
   "execution_count": 107,
   "id": "6f215f9d",
   "metadata": {},
   "outputs": [
    {
     "name": "stdout",
     "output_type": "stream",
     "text": [
      "Missing values\n",
      "date             0\n",
      "clock            0\n",
      "open_eurusd      0\n",
      "high_eurusd      0\n",
      "low_eurusd       0\n",
      "close_eurusd     0\n",
      "tikvol_eurusd    0\n",
      "open_audusd      0\n",
      "high_audusd      0\n",
      "low_audusd       0\n",
      "close_audusd     0\n",
      "tikvol_audusd    0\n",
      "open_eurgbp      0\n",
      "high_eurgbp      0\n",
      "low_eurgbp       0\n",
      "close_eurgbp     0\n",
      "tikvol_eurgbp    0\n",
      "open_gbpusd      0\n",
      "high_gbpusd      0\n",
      "low_gbpusd       0\n",
      "close_gbpusd     0\n",
      "tikvol_gbpusd    0\n",
      "open_nzdusd      0\n",
      "high_nzdusd      0\n",
      "low_nzdusd       0\n",
      "close_nzdusd     0\n",
      "tikvol_nzdusd    0\n",
      "open_usdchf      0\n",
      "high_usdchf      0\n",
      "low_usdchf       0\n",
      "close_usdchf     0\n",
      "tikvol_usdchf    0\n",
      "open_usdjpy      0\n",
      "high_usdjpy      0\n",
      "low_usdjpy       0\n",
      "close_usdjpy     0\n",
      "tikvol_usdjpy    0\n",
      "dtype: int64\n",
      "Duplcated rows\n",
      "0\n",
      "Shape of features (X): (6235, 3)\n",
      "shape of target (y): (6235,)\n"
     ]
    }
   ],
   "source": [
    "# Check for missing values\n",
    "df_missing = df.isnull().sum()\n",
    "print(\"Missing values\")\n",
    "print(df_missing)\n",
    "\n",
    "# Check for duplicate rows\n",
    "df_duplicated = df.duplicated().sum()\n",
    "print(\"Duplcated rows\")\n",
    "print(df_duplicated)\n",
    "\n",
    "# Define the features (X) and the target (y). For multiple linear regression\n",
    "# we include all relevant features in our feature set\n",
    "X = df[[\"open_eurusd\",\"high_eurusd\",\"low_eurusd\",]] # Independent variables (feattures)\n",
    "y = df[\"close_eurusd\"] # Dependent variable (target)\n",
    "\n",
    "print(\"Shape of features (X):\",X.shape)\n",
    "print(\"shape of target (y):\",y.shape)"
   ]
  },
  {
   "cell_type": "markdown",
   "id": "04f930b1",
   "metadata": {},
   "source": [
    "Data Splitting"
   ]
  },
  {
   "cell_type": "code",
   "execution_count": 108,
   "id": "c031511c",
   "metadata": {},
   "outputs": [
    {
     "name": "stdout",
     "output_type": "stream",
     "text": [
      "Number of samples in training set: 4364\n",
      "Number of samples in testing set: 1871\n"
     ]
    }
   ],
   "source": [
    "# We split the data into a training set and testing set. The model learns from the \n",
    "# training data and then is evaluated on the testing data, which it has not seen before\n",
    "# We'll use the 70/30 split\n",
    "\n",
    "X_train,X_test,y_train,y_test = train_test_split(X,y,test_size=0.3,random_state=42)\n",
    "\n",
    "print(\"Number of samples in training set:\",len(X_train))\n",
    "print(\"Number of samples in testing set:\",len(X_test))"
   ]
  },
  {
   "cell_type": "markdown",
   "id": "b46320d3",
   "metadata": {},
   "source": [
    "Model Training"
   ]
  },
  {
   "cell_type": "code",
   "execution_count": 109,
   "id": "48b4b4ab",
   "metadata": {},
   "outputs": [
    {
     "name": "stdout",
     "output_type": "stream",
     "text": [
      "\n",
      "Training the Multiple Linear Regression model...\n",
      "Model training complete!\n"
     ]
    }
   ],
   "source": [
    "# We create an instance of the Linear Regression model and train it using the\n",
    "# training data. The 'fit' method finds the best-fit linear equation that represents\n",
    "# the relationship between all the input features and the target.\n",
    "print(\"\\nTraining the Multiple Linear Regression model...\")\n",
    "model = LinearRegression()\n",
    "model.fit(X_train, y_train)\n",
    "print(\"Model training complete!\")\n"
   ]
  },
  {
   "cell_type": "markdown",
   "id": "29c6d0a8",
   "metadata": {},
   "source": [
    "Model Evaluation"
   ]
  },
  {
   "cell_type": "code",
   "execution_count": 110,
   "id": "49558967",
   "metadata": {},
   "outputs": [
    {
     "name": "stdout",
     "output_type": "stream",
     "text": [
      "Mean Squared Error (MSE): 0.0000\n",
      "R-squared: 0.9994\n"
     ]
    }
   ],
   "source": [
    "# Now we make a predictions on the test set and evaluate and the model's performance\n",
    "# We'll use the Mean Squared Error (MSE) and R-squared to measure accuracy\n",
    "# A higher R-squared value indicates a better fit\n",
    "y_pred = model.predict(X_test)\n",
    "\n",
    "mse = mean_squared_error(y_test,y_pred)\n",
    "r2 = r2_score(y_test,y_pred)\n",
    "\n",
    "print(f\"Mean Squared Error (MSE): {mse:.4f}\")\n",
    "print(f\"R-squared: {r2:.4f}\")"
   ]
  },
  {
   "cell_type": "markdown",
   "id": "c1cd7f14",
   "metadata": {},
   "source": [
    "Making a New Prediction "
   ]
  },
  {
   "cell_type": "code",
   "execution_count": null,
   "id": "debd24ad",
   "metadata": {},
   "outputs": [],
   "source": [
    "# This part of the code prompts the user to input values for all features to make a prediction\n",
    "print(\"Enter the following values to predict the Close Price\")\n",
    "\n",
    "while True:\n",
    "    try:\n",
    "        open_price = float(input(\"Enter the Open price (or type 'exit' to quit):\"))\n",
    "        if open_price is None:\n",
    "            break\n",
    "        high_price = float(input(\"Enter the High Price: \"))\n",
    "        low_price = float(input(\"Enter the Low price: \"))\n",
    "\n",
    "        # We must reshape the input to a 2D array, even for a single sample\n",
    "        # The order of the features must match the order used during training\n",
    "        new_prices = np.array([[open_price,high_price,low_price]])\n",
    "\n",
    "        predicted_close = model.predict(new_prices)\n",
    "\n",
    "        print(f\"For the given prices, the predicted Close price is {predicted_close[0]:.4f}\")\n",
    "    except ValueError:\n",
    "        if input == \"exit\":\n",
    "            break\n",
    "        print(\"Invalid input. Please enter valid numbers for all three fields.\")"
   ]
  }
 ],
 "metadata": {
  "kernelspec": {
   "display_name": "Python 3",
   "language": "python",
   "name": "python3"
  },
  "language_info": {
   "codemirror_mode": {
    "name": "ipython",
    "version": 3
   },
   "file_extension": ".py",
   "mimetype": "text/x-python",
   "name": "python",
   "nbconvert_exporter": "python",
   "pygments_lexer": "ipython3",
   "version": "3.13.3"
  }
 },
 "nbformat": 4,
 "nbformat_minor": 5
}
